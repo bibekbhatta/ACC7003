{
 "cells": [
  {
   "cell_type": "code",
   "execution_count": 1,
   "id": "ccb83a57",
   "metadata": {},
   "outputs": [],
   "source": [
    "import pulp # if an error, make sure pulp is installed"
   ]
  },
  {
   "cell_type": "code",
   "execution_count": 2,
   "id": "a1e1acb4",
   "metadata": {},
   "outputs": [],
   "source": [
    "model = pulp.LpProblem(\"Contribution_Margin\", pulp.LpMaximize)"
   ]
  },
  {
   "cell_type": "code",
   "execution_count": 3,
   "id": "f4eae58a",
   "metadata": {},
   "outputs": [],
   "source": [
    "# setting the number of units to be produced to integer and non-negative\n",
    "V = pulp.LpVariable('V_var', lowBound=0, cat='Integer')\n",
    "B = pulp.LpVariable('B_var', lowBound=0, cat='Integer')\n",
    "P = pulp.LpVariable('P_var', lowBound=0, cat='Integer')"
   ]
  },
  {
   "cell_type": "code",
   "execution_count": 4,
   "id": "cd7a380b",
   "metadata": {},
   "outputs": [],
   "source": [
    "# to optimize\n",
    "model += (6 * V) + (11 * B) + (18 * P)"
   ]
  },
  {
   "cell_type": "code",
   "execution_count": 5,
   "id": "ac268b17",
   "metadata": {},
   "outputs": [],
   "source": [
    "# constraints are as follows:\n",
    "model += V + 3*B + 2*P <= 35000\n",
    "model += 2*V + 2*B + 3*P <= 38000\n",
    "model += V + 2*B + 4*P <= 28000"
   ]
  },
  {
   "cell_type": "code",
   "execution_count": 6,
   "id": "5a3582b2",
   "metadata": {},
   "outputs": [
    {
     "data": {
      "text/plain": [
       "1"
      ]
     },
     "execution_count": 6,
     "metadata": {},
     "output_type": "execute_result"
    }
   ],
   "source": [
    "# solving the porblem\n",
    "model.solve()"
   ]
  },
  {
   "cell_type": "code",
   "execution_count": 7,
   "id": "203df1ee",
   "metadata": {},
   "outputs": [
    {
     "data": {
      "text/plain": [
       "'Optimal'"
      ]
     },
     "execution_count": 7,
     "metadata": {},
     "output_type": "execute_result"
    }
   ],
   "source": [
    "#presenting the status\n",
    "pulp.LpStatus[model.status]"
   ]
  },
  {
   "cell_type": "code",
   "execution_count": 8,
   "id": "a3c6366c",
   "metadata": {},
   "outputs": [
    {
     "name": "stdout",
     "output_type": "stream",
     "text": [
      "Number of Q to be produced = 0\n",
      "Number of R to be produced = 71\n",
      "Number of S to be produced = 34\n",
      "4379\n"
     ]
    }
   ],
   "source": [
    "#printing results\n",
    "print (\"Number of V to be produced = {}\".format(V.varValue))\n",
    "print (\"Number of B to be produced = {}\".format(B.varValue))\n",
    "print (\"Number of P to be produced = {}\".format(P.varValue))\n",
    "CM = pulp.value(model.objective)\n",
    "print (CM)"
   ]
  },
  {
   "cell_type": "code",
   "execution_count": null,
   "id": "6e0d8d32",
   "metadata": {},
   "outputs": [],
   "source": []
  }
 ],
 "metadata": {
  "kernelspec": {
   "display_name": "Python 3 (ipykernel)",
   "language": "python",
   "name": "python3"
  },
  "language_info": {
   "codemirror_mode": {
    "name": "ipython",
    "version": 3
   },
   "file_extension": ".py",
   "mimetype": "text/x-python",
   "name": "python",
   "nbconvert_exporter": "python",
   "pygments_lexer": "ipython3",
   "version": "3.8.12"
  }
 },
 "nbformat": 4,
 "nbformat_minor": 5
}
